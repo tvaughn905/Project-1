{
 "cells": [
  {
   "cell_type": "code",
   "execution_count": 1,
   "id": "3b6d1e0c",
   "metadata": {},
   "outputs": [],
   "source": [
    "import tkinter as tk\n",
    "import requests\n",
    "import time\n",
    "from api_keys import weather_api_key"
   ]
  },
  {
   "cell_type": "code",
   "execution_count": 2,
   "id": "5c5e1290",
   "metadata": {},
   "outputs": [],
   "source": [
    "\n",
    "def getWeather(canvas):\n",
    "    country = textField.get()\n",
    "    api = \"https://api.openweathermap.org/data/2.5/weather?q=\"+country+\"&appid=\" +weather_api_key\n",
    "    \n",
    "    json_data = requests.get(api).json()\n",
    "    condition = json_data['weather'][0]['main']\n",
    "    temp = int(json_data['main']['temp'] - 273.15)\n",
    "    min_temp = int(json_data['main']['temp_min'] - 273.15)\n",
    "    max_temp = int(json_data['main']['temp_max'] - 273.15)\n",
    "    pressure = json_data['main']['pressure']\n",
    "    humidity = json_data['main']['humidity']\n",
    "    wind = json_data['wind']['speed']\n",
    "    sunrise = time.strftime('%I:%M:%S', time.gmtime(json_data['sys']['sunrise'] - 21600))\n",
    "    sunset = time.strftime('%I:%M:%S', time.gmtime(json_data['sys']['sunset'] - 21600))\n",
    "\n",
    "    final_info = condition + \"\\n\" + str(temp) + \"°C\" \n",
    "    final_data = \"\\n\"+ \"Min Temp: \" + str(min_temp) + \"°C\" + \"\\n\" + \"Max Temp: \" + str(max_temp) + \"°C\" +\"\\n\" + \"Pressure: \" + str(pressure) + \"\\n\" +\"Humidity: \" + str(humidity) + \"\\n\" +\"Wind Speed: \" + str(wind) + \"\\n\" + \"Sunrise: \" + sunrise + \"\\n\" + \"Sunset: \" + sunset\n",
    "    label1.config(text = final_info)\n",
    "    label2.config(text = final_data)"
   ]
  },
  {
   "cell_type": "code",
   "execution_count": 3,
   "id": "164837ab",
   "metadata": {},
   "outputs": [],
   "source": [
    "canvas = tk.Tk()\n",
    "canvas.geometry(\"600x500\")\n",
    "canvas.title(\"Weather App\")\n",
    "f = (\"poppins\", 15, \"bold\")\n",
    "t = (\"poppins\", 35, \"bold\")\n",
    "\n",
    "textField = tk.Entry(canvas, justify='center', width = 20, font = t)\n",
    "textField.pack(pady = 20)\n",
    "textField.focus()\n",
    "textField.bind('<Return>', getWeather)\n",
    "\n",
    "label1 = tk.Label(canvas, font=t)\n",
    "label1.pack()\n",
    "label2 = tk.Label(canvas, font=f)\n",
    "label2.pack()\n",
    "canvas.mainloop()\n",
    "#print = canvas"
   ]
  },
  {
   "cell_type": "code",
   "execution_count": null,
   "id": "9746bcf9",
   "metadata": {},
   "outputs": [],
   "source": []
  },
  {
   "cell_type": "code",
   "execution_count": null,
   "id": "594a97fd",
   "metadata": {},
   "outputs": [],
   "source": []
  }
 ],
 "metadata": {
  "kernelspec": {
   "display_name": "PythonData",
   "language": "python",
   "name": "pythondata"
  },
  "language_info": {
   "codemirror_mode": {
    "name": "ipython",
    "version": 3
   },
   "file_extension": ".py",
   "mimetype": "text/x-python",
   "name": "python",
   "nbconvert_exporter": "python",
   "pygments_lexer": "ipython3",
   "version": "3.10.9"
  }
 },
 "nbformat": 4,
 "nbformat_minor": 5
}
