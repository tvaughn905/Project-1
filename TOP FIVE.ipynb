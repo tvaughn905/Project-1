{
 "cells": [
  {
   "cell_type": "code",
   "execution_count": null,
   "id": "8b2b08b3",
   "metadata": {},
   "outputs": [],
   "source": [
    "%matplotlib notebook\n",
    "\n",
    "# Dependencies and Setup\n",
    "import matplotlib.pyplot as plt\n",
    "import pandas as pd\n",
    "import numpy as np\n",
    "import scipy.stats as st\n",
    "from scipy.stats import linregress\n",
    "import os\n",
    "import csv"
   ]
  },
  {
   "cell_type": "code",
   "execution_count": null,
   "id": "80c0e9f6",
   "metadata": {},
   "outputs": [],
   "source": [
    "# define variables, lists\n",
    "# years of data for analysis\n",
    "year_list = ['2015', '2016', '2017', '2018', '2019', '2022'] # individual years included in the data\n",
    "test_list = ['2015-2019', '2022'] # years for presentation\n",
    "\n",
    "# project happiness survey categories\n",
    "categories = ['Happiness Score', 'Family', 'Health', 'Freedom', 'Perceptions of Corruption', 'Generosity']"
   ]
  },
  {
   "cell_type": "code",
   "execution_count": null,
   "id": "239b309c",
   "metadata": {},
   "outputs": [],
   "source": [
    "# Load csv files containing the data from the Happiness Surveys for the years 2015 through 2019 and 2022\n",
    "clean_data_df = pd.read_csv('Output_data/Happiness_df.csv')\n",
    "clean_data_df"
   ]
  },
  {
   "cell_type": "code",
   "execution_count": null,
   "id": "1886ad1d",
   "metadata": {},
   "outputs": [],
   "source": [
    "# confirm lack of NaN values\n",
    "clean_data_df.isnull().values.any()"
   ]
  },
  {
   "cell_type": "code",
   "execution_count": null,
   "id": "bcc2fb79",
   "metadata": {},
   "outputs": [],
   "source": [
    "# add a column for the average health scores for 2015 through 2019\n",
    "clean_data_df['Health (2015-2019)']=((clean_data_df['Health (2015)'] +\n",
    "                                           clean_data_df['Health (2016)'] +\n",
    "                                           clean_data_df['Health (2017)'] +\n",
    "                                           clean_data_df['Health (2018)'] +\n",
    "                                           clean_data_df['Health (2019)']\n",
    "                                          ) / 5)\n",
    "clean_data_df"
   ]
  }
 ],
 "metadata": {
  "kernelspec": {
   "display_name": "PythonData",
   "language": "python",
   "name": "pythondata"
  },
  "language_info": {
   "codemirror_mode": {
    "name": "ipython",
    "version": 3
   },
   "file_extension": ".py",
   "mimetype": "text/x-python",
   "name": "python",
   "nbconvert_exporter": "python",
   "pygments_lexer": "ipython3",
   "version": "3.7.7"
  }
 },
 "nbformat": 4,
 "nbformat_minor": 5
}
